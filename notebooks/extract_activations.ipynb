{
 "cells": [
  {
   "cell_type": "code",
   "execution_count": 1,
   "metadata": {},
   "outputs": [
    {
     "name": "stderr",
     "output_type": "stream",
     "text": [
      "/net/tscratch/people/plgwlapacz/conda_envs/zzsn/lib/python3.11/site-packages/tqdm/auto.py:21: TqdmWarning: IProgress not found. Please update jupyter and ipywidgets. See https://ipywidgets.readthedocs.io/en/stable/user_install.html\n",
      "  from .autonotebook import tqdm as notebook_tqdm\n"
     ]
    }
   ],
   "source": [
    "import os\n",
    "os.chdir(\"../\")\n",
    "\n",
    "import sys\n",
    "sys.path.append(os.getcwd())\n",
    "\n",
    "import torch\n",
    "from diffusers import DiffusionPipeline\n",
    "from src.hooked_model.hooked_model_sdxl import HookedDiffusionModel\n",
    "import matplotlib.pyplot as plt\n",
    "import einops\n",
    "import numpy as np\n",
    "from datasets import Dataset\n",
    "from PIL import Image\n",
    "from tqdm import tqdm\n",
    "\n",
    "torch.backends.cuda.matmul.allow_tf32 = True\n",
    "torch._inductor.config.conv_1x1_as_mm = True\n",
    "torch._inductor.config.coordinate_descent_tuning = True\n",
    "torch._inductor.config.epilogue_fusion = False\n",
    "torch._inductor.config.coordinate_descent_check_all_directions = True"
   ]
  },
  {
   "cell_type": "markdown",
   "metadata": {},
   "source": [
    "Prepare SDXL"
   ]
  },
  {
   "cell_type": "code",
   "execution_count": 2,
   "metadata": {},
   "outputs": [
    {
     "name": "stderr",
     "output_type": "stream",
     "text": [
      "Loading pipeline components...: 100%|██████████| 7/7 [00:01<00:00,  4.11it/s]\n"
     ]
    }
   ],
   "source": [
    "pipe_sd_turbo = DiffusionPipeline.from_pretrained(\n",
    "    \"stabilityai/sdxl-turbo\", torch_dtype=torch.float16, variant=\"fp16\"\n",
    ").to(\"cuda\")\n",
    "\n",
    "hooked_model = HookedDiffusionModel(\n",
    "    model=pipe_sd_turbo.unet,\n",
    "    scheduler=pipe_sd_turbo.scheduler,\n",
    "    encode_prompt=pipe_sd_turbo.encode_prompt,\n",
    "    vae=pipe_sd_turbo.vae,\n",
    ")"
   ]
  },
  {
   "cell_type": "markdown",
   "metadata": {},
   "source": [
    "Prepare SAE"
   ]
  },
  {
   "cell_type": "code",
   "execution_count": 3,
   "metadata": {},
   "outputs": [],
   "source": [
    "dtype = torch.float16\n",
    "device = \"mps\" if torch.backends.mps.is_available() else \"cuda\"\n",
    "ckpt_path = (\n",
    "    \"sae-diff-autointerpr/checkpoints/batch_topk_expansion_factor16_k32_multi_topkFalse_auxk_alpha0.03125_output_249_output\"\n",
    ")\n",
    "hookpoint = \"down_blocks.2\"\n",
    "\n",
    "from src.sae.sae import Sae\n",
    "\n",
    "sae = Sae.load_from_disk(\n",
    "\tos.path.join(\n",
    "\t\tckpt_path,\n",
    "\t\thookpoint,\n",
    "\t),\n",
    "\tdevice=device,\n",
    ").to(dtype)"
   ]
  },
  {
   "cell_type": "markdown",
   "metadata": {},
   "source": [
    "Prepare activations dataset"
   ]
  },
  {
   "cell_type": "code",
   "execution_count": 4,
   "metadata": {},
   "outputs": [],
   "source": [
    "num_timesteps = 4\n",
    "activations_dataset_path = f\"sae-diff-autointerpr/activations/activations/sdxl-turbo/steps{num_timesteps}\"\n",
    "activations_dataset = Dataset.load_from_disk(\n",
    "\tos.path.join(activations_dataset_path, hookpoint), keep_in_memory=False\n",
    ")\n",
    "activations_dataset.set_format(\n",
    "\ttype=\"torch\", columns=[\"activations\", \"timestep\", \"file_name\"], dtype=dtype\n",
    ")\n",
    "activations_dataset = activations_dataset.filter(\n",
    "\tlambda x: x[\"timestep\"] == 249, batched=True\n",
    ")"
   ]
  },
  {
   "cell_type": "code",
   "execution_count": 5,
   "metadata": {},
   "outputs": [
    {
     "name": "stderr",
     "output_type": "stream",
     "text": [
      "100%|██████████| 313/313 [00:15<00:00, 19.60it/s]\n"
     ]
    }
   ],
   "source": [
    "avg_activations_per_sample = torch.zeros(\n",
    "\t(len(activations_dataset), sae.num_latents), dtype=torch.float16\n",
    ")\n",
    "\n",
    "batch_size = 16\n",
    "dl = torch.utils.data.DataLoader(\n",
    "\tactivations_dataset, batch_size=batch_size, shuffle=False, num_workers=4\n",
    ")\n",
    "with torch.no_grad():\n",
    "\tfor i, batch in tqdm(enumerate(dl), total=len(dl)):\n",
    "\t\tacts = batch[\"activations\"].to(sae.device)\n",
    "\t\tacts = einops.rearrange(\n",
    "\t\t\tacts,\n",
    "\t\t\t\"batch sample_size d_model -> (batch sample_size) d_model\",\n",
    "\t\t)\n",
    "\t\tout = sae.pre_acts(acts)\n",
    "\t\t# Reshape to get per-sample activations and compute mean for each sample\n",
    "\t\tout = out.view(\n",
    "\t\t\tbatch[\"activations\"].shape[0], -1, sae.num_latents\n",
    "\t\t)  # [batch, sample_size, num_latents]\n",
    "\t\tbatch_avg_activations = out.mean(dim=1).to(\n",
    "\t\t\tdtype=torch.float16\n",
    "\t\t)  # [batch, num_latents]\n",
    "\n",
    "\t\t# Store in the correct indices\n",
    "\t\tstart_idx = i * batch_size\n",
    "\t\tend_idx = min(start_idx + batch_size, len(activations_dataset))\n",
    "\t\tavg_activations_per_sample[start_idx:end_idx] = batch_avg_activations"
   ]
  },
  {
   "cell_type": "code",
   "execution_count": 6,
   "metadata": {},
   "outputs": [],
   "source": [
    "def find_topk_activating_examples(activations_per_sample, latent_idx, k=10):\n",
    "\ttopk_indices = torch.argsort(\n",
    "\t\tactivations_per_sample[:, latent_idx], dim=0, descending=True\n",
    "\t)[:k]\n",
    "\treturn topk_indices\n",
    "\n",
    "\n",
    "k = 5\n",
    "latent_idx = 6531  #374\n",
    "\n",
    "topk_indices = find_topk_activating_examples(\n",
    "    avg_activations_per_sample, latent_idx, k\n",
    ")  # find topk samples containing patches with higest activations\n",
    "topk_samples = activations_dataset[topk_indices.tolist()]\n",
    "sae_latents = []\n",
    "activations = topk_samples[\"activations\"].to(sae.device)\n",
    "timesteps = topk_samples[\"timestep\"]\n",
    "file_names_topk = topk_samples[\"file_name\"]\n",
    "activations = einops.rearrange(\n",
    "    activations,\n",
    "    \"batch sample_size d_model -> (batch sample_size) d_model\",\n",
    ")\n",
    "out = sae.pre_acts(activations)\n",
    "sae_latents = out.view(k, -1, sae.num_latents)"
   ]
  },
  {
   "cell_type": "markdown",
   "metadata": {},
   "source": [
    "Take only captions corresponding to the selected images"
   ]
  },
  {
   "cell_type": "code",
   "execution_count": 7,
   "metadata": {},
   "outputs": [],
   "source": [
    "import json\n",
    "\n",
    "with open(\"/net/pr2/projects/plgrid/plggzzsn2025/coco/annotations/captions_val2017.json\", \"r\") as f:\n",
    "    captions = json.load(f)\n",
    "\n",
    "ids = [int(os.path.splitext(name.split(\"/\")[1])[0]) for name in file_names_topk]\n",
    "captions = [item['caption'] for item in captions[\"annotations\"] if item['image_id'] in ids]\n",
    "if len(captions) > 32:\n",
    "    captions = captions[:32]"
   ]
  },
  {
   "cell_type": "markdown",
   "metadata": {},
   "source": [
    "Generate activations corresponding to these prompts"
   ]
  },
  {
   "cell_type": "code",
   "execution_count": 8,
   "metadata": {},
   "outputs": [],
   "source": [
    "new_avg_activations_per_sample = torch.zeros(\n",
    "\t(len(captions), sae.num_latents), dtype=torch.float16\n",
    ")\n",
    "bsz = 16\n",
    "with torch.no_grad():\n",
    "\tfor i in range(0, len(captions), bsz):\n",
    "\t\tend_idx = min(i + bsz, len(captions))\n",
    "\t\t_, cache_dict = hooked_model.run_with_cache(\n",
    "\t\t\tprompt=captions[i:end_idx],\n",
    "\t\t\tnum_images_per_prompt=1,\n",
    "\t\t\tdevice=\"cuda\",\n",
    "\t\t\tguidance_scale=7.5,\n",
    "\t\t\tnum_inference_steps=249,\n",
    "\t\t\theight=640,\n",
    "\t\t\twidth=480,\n",
    "\t\t\tgenerator=torch.Generator(device=\"cuda\").manual_seed(1),\n",
    "\t\t\tpositions_to_cache=[\"down_blocks.2\"],\n",
    "\t\t)\n",
    "\t\tacts = cache_dict[\"output\"][\"down_blocks.2\"][:, -1]\n",
    "\t\tacts = einops.rearrange(\n",
    "\t\t\tacts,\n",
    "\t\t\t\"batch sample_size d_model -> (batch sample_size) d_model\",\n",
    "\t\t)\n",
    "\t\tout = sae.pre_acts(acts)\n",
    "\t\t# Reshape to get per-sample activations and compute mean for each sample\n",
    "\t\tout = out.view(\n",
    "\t\t\tend_idx-i, -1, sae.num_latents\n",
    "\t\t)  # [batch, sample_size, num_latents]\n",
    "\t\tbatch_avg_activations = out.mean(dim=1).to(\n",
    "\t\t\tdtype=torch.float16\n",
    "\t\t)  # [batch, num_latents]\n",
    "\n",
    "\t\tstart_idx = i\n",
    "\t\tnew_avg_activations_per_sample[start_idx:end_idx] = batch_avg_activations"
   ]
  },
  {
   "cell_type": "code",
   "execution_count": 9,
   "metadata": {},
   "outputs": [],
   "source": [
    "avg_activations = avg_activations_per_sample[topk_indices.tolist()].mean(dim=0).cpu().numpy()\n",
    "new_avg_activations = new_avg_activations_per_sample.mean(dim=0).cpu().numpy()"
   ]
  },
  {
   "cell_type": "code",
   "execution_count": 10,
   "metadata": {},
   "outputs": [
    {
     "name": "stdout",
     "output_type": "stream",
     "text": [
      "torch.Size([5, 20480]) torch.Size([25, 20480])\n"
     ]
    }
   ],
   "source": [
    "print(avg_activations_per_sample[topk_indices.tolist()].shape, new_avg_activations_per_sample.shape)"
   ]
  },
  {
   "cell_type": "markdown",
   "metadata": {},
   "source": [
    "Plot differences on all SAE features"
   ]
  },
  {
   "cell_type": "code",
   "execution_count": 11,
   "metadata": {},
   "outputs": [],
   "source": [
    "abs_diff = abs(avg_activations - new_avg_activations)"
   ]
  },
  {
   "cell_type": "code",
   "execution_count": 18,
   "metadata": {},
   "outputs": [
    {
     "data": {
      "image/png": "[encoded data removed]",
      "text/plain": [
       "<Figure size 1200x600 with 2 Axes>"
      ]
     },
     "metadata": {},
     "output_type": "display_data"
    }
   ],
   "source": [
    "mask = np.zeros(len(avg_activations))\n",
    "mask[latent_idx] = 30\n",
    "fig, (ax1, ax2) = plt.subplots(2, 1, figsize=(12, 6))\n",
    "ax1.plot(\n",
    "    np.arange(len(avg_activations)),\n",
    "    mask,\n",
    "    label=f\"feature={latent_idx}\",\n",
    "    color=\"lightgray\"\n",
    ")\n",
    "ax1.plot(\n",
    "    np.arange(len(avg_activations)),\n",
    "    avg_activations,\n",
    "    label=\"Bazowe\"\n",
    ")\n",
    "ax1.plot(\n",
    "    np.arange(len(new_avg_activations)),\n",
    "    new_avg_activations,\n",
    "    color=\"red\",\n",
    "    label=\"Z promptow\"\n",
    ")\n",
    "ax1.set_ylim(0, 30)\n",
    "ax1.set_ylabel(\"Activation Value\")\n",
    "ax1.set_title(f\"Feature={latent_idx}\")\n",
    "ax1.legend()\n",
    "\n",
    "ax2.plot(\n",
    "    np.arange(len(avg_activations)),\n",
    "    mask,\n",
    "    color=\"lightgray\"\n",
    ")\n",
    "ax2.plot(\n",
    "    np.arange(len(avg_activations)),\n",
    "    abs_diff,\n",
    "    color=\"green\"\n",
    ")\n",
    "ax2.set_ylim(0, 30)\n",
    "ax2.set_xlabel(\"Neuron Index\")\n",
    "ax2.set_ylabel(f\"Absolute difference\")\n",
    "\n",
    "plt.tight_layout()\n",
    "plt.show()"
   ]
  },
  {
   "cell_type": "code",
   "execution_count": 19,
   "metadata": {},
   "outputs": [
    {
     "name": "stdout",
     "output_type": "stream",
     "text": [
      "Max: 5.637\n",
      "Min: 0.0\n",
      "Mean: 0.0988\n",
      "Std: 0.1792\n"
     ]
    }
   ],
   "source": [
    "print(\"Max:\", abs_diff.max())\n",
    "print(\"Min:\", abs_diff.min())\n",
    "print(\"Mean:\", abs_diff.mean())\n",
    "print(\"Std:\", abs_diff.std())"
   ]
  }
 ],
 "metadata": {
  "kernelspec": {
   "display_name": "Python 3 (ipykernel)",
   "language": "python",
   "name": "python3"
  },
  "language_info": {
   "codemirror_mode": {
    "name": "ipython",
    "version": 3
   },
   "file_extension": ".py",
   "mimetype": "text/x-python",
   "name": "python",
   "nbconvert_exporter": "python",
   "pygments_lexer": "ipython3",
   "version": "3.11.11"
  }
 },
 "nbformat": 4,
 "nbformat_minor": 2
}
